{
  "nbformat": 4,
  "nbformat_minor": 0,
  "metadata": {
    "colab": {
      "name": "ClasificacionImagenesDogsCats.ipynb",
      "provenance": []
    },
    "kernelspec": {
      "name": "python3",
      "display_name": "Python 3"
    },
    "language_info": {
      "name": "python"
    },
    "gpuClass": "standard",
    "accelerator": "GPU"
  },
  "cells": [
    {
      "cell_type": "code",
      "source": [
        "#Librerias\n",
        "import os\n",
        "from google.colab import drive\n",
        "from google.colab import files\n",
        "import tensorflow as tf\n",
        "import pathlib\n",
        "#Preposesamiento de datos\n",
        "from tensorflow.keras.utils import image_dataset_from_directory\n",
        "#Descargar el modelo pre entrenado\n",
        "import tensorflow_hub as hub\n",
        "from keras.preprocessing import image\n",
        "import numpy as np\n",
        "import matplotlib.pyplot as plt"
      ],
      "metadata": {
        "id": "LGMpo1y5KXw8"
      },
      "execution_count": 1,
      "outputs": []
    },
    {
      "cell_type": "markdown",
      "source": [
        "# Clasificacion de imagenes\n"
      ],
      "metadata": {
        "id": "ODJZKOd5JhwN"
      }
    },
    {
      "cell_type": "markdown",
      "source": [
        "Montar google drive"
      ],
      "metadata": {
        "id": "mHEY_tEKKRBX"
      }
    },
    {
      "cell_type": "code",
      "source": [
        "drive.mount(\"/content/gdrive\")"
      ],
      "metadata": {
        "id": "MxI-cPImJkn_",
        "colab": {
          "base_uri": "https://localhost:8080/"
        },
        "outputId": "b0eca165-3fe3-4db4-f4f5-12752e7a232f"
      },
      "execution_count": 2,
      "outputs": [
        {
          "output_type": "stream",
          "name": "stdout",
          "text": [
            "Mounted at /content/gdrive\n"
          ]
        }
      ]
    },
    {
      "cell_type": "markdown",
      "source": [
        "## Preprocesamiento de Datos"
      ],
      "metadata": {
        "id": "Hh636xaUQazJ"
      }
    },
    {
      "cell_type": "markdown",
      "source": [
        "Los datos deben formatearse en tensores de punto flotante preprocesados adecuadamente antes de introducirlos en el modelo. \n",
        "\n",
        "Actualmente, los datos se encuentran en una unidad como archivos JPEG, por lo que los pasos para incluirlos en el modelo son:\n",
        " \n",
        "1. Lea los archivos de imagen. \n",
        "2. Decodifique el contenido JPEG en cuadrículas RGB de píxeles. \n",
        "3. Conviértalos en tensores de punto flotante. \n",
        "4. Cambie su tamaño a un tamaño (usaremos 180 × 180). \n",
        "5. Empáquelos en lotes (usaremos lotes de 32 imágenes)."
      ],
      "metadata": {
        "id": "msttEFTVStOC"
      }
    },
    {
      "cell_type": "code",
      "source": [
        "train_datagen = tf.keras.preprocessing.image.ImageDataGenerator(rescale = 1.0/255.)\n",
        "validation_datagen = tf.keras.preprocessing.image.ImageDataGenerator(rescale = 1.0/255.)\n",
        "test_datagen = tf.keras.preprocessing.image.ImageDataGenerator(rescale = 1.0/255.)"
      ],
      "metadata": {
        "id": "wSTG2getbNvD"
      },
      "execution_count": 3,
      "outputs": []
    },
    {
      "cell_type": "code",
      "source": [
        "dir_train =  \"/content/gdrive/MyDrive/ML_entrenamiento/cats_vs_dogs_small\"\n",
        "train_dataset = train_datagen.flow_from_directory(\n",
        " dir_train+\"/train\",\n",
        " batch_size=32,\n",
        " target_size=(180,180))\n",
        "validation_dataset = validation_datagen.flow_from_directory(\n",
        " dir_train+\"/validation\",\n",
        " target_size=(180,180))\n",
        "test_dataset = test_datagen.flow_from_directory(\n",
        " dir_train+\"/test\",\n",
        " batch_size=32,\n",
        " target_size=(180,180))"
      ],
      "metadata": {
        "id": "KmsZIWvWSs33",
        "colab": {
          "base_uri": "https://localhost:8080/"
        },
        "outputId": "dc20b931-a0f9-43db-98b6-17d19aa1621c"
      },
      "execution_count": 4,
      "outputs": [
        {
          "output_type": "stream",
          "name": "stdout",
          "text": [
            "Found 2000 images belonging to 2 classes.\n",
            "Found 1000 images belonging to 2 classes.\n",
            "Found 2000 images belonging to 2 classes.\n"
          ]
        }
      ]
    },
    {
      "cell_type": "markdown",
      "source": [
        "Como estan distribuidos los datos:\n"
      ],
      "metadata": {
        "id": "3fRWNdMWUbNv"
      }
    },
    {
      "cell_type": "code",
      "source": [
        "for data_batch, labels_batch in train_dataset:\n",
        "    print(\"forma de lote de datos:\", data_batch.shape)\n",
        "    print(\"forma de lote de etiquetas:\", labels_batch.shape)\n",
        "    break"
      ],
      "metadata": {
        "colab": {
          "base_uri": "https://localhost:8080/"
        },
        "id": "eA370FNdUax9",
        "outputId": "a6f2abc3-261d-4192-858b-c53db59b0b11"
      },
      "execution_count": 5,
      "outputs": [
        {
          "output_type": "stream",
          "name": "stdout",
          "text": [
            "forma de lote de datos: (32, 180, 180, 3)\n",
            "forma de lote de etiquetas: (32, 2)\n"
          ]
        }
      ]
    },
    {
      "cell_type": "markdown",
      "source": [
        "##Entrenamiento del modelo por Transfer Learning"
      ],
      "metadata": {
        "id": "ARtgcbfrVEXc"
      }
    },
    {
      "cell_type": "code",
      "source": [
        "url = \"https://tfhub.dev/tensorflow/efficientnet/lite0/feature-vector/2\"\n",
        "feature_extractor = hub.KerasLayer(url, input_shape=(180, 180, 3))\n",
        "model = tf.keras.Sequential([    \n",
        "        feature_extractor,\n",
        "        tf.keras.layers.Dropout(0.4),\n",
        "        tf.keras.layers.Dense(2, activation='softmax')\n",
        "])"
      ],
      "metadata": {
        "id": "soUyxRHTQb8N"
      },
      "execution_count": 6,
      "outputs": []
    },
    {
      "cell_type": "code",
      "source": [
        "model.summary()"
      ],
      "metadata": {
        "id": "P6dPpAEFVXFH",
        "colab": {
          "base_uri": "https://localhost:8080/"
        },
        "outputId": "fff51aa8-97cc-451c-c8ec-bc53a405f25d"
      },
      "execution_count": 7,
      "outputs": [
        {
          "output_type": "stream",
          "name": "stdout",
          "text": [
            "Model: \"sequential\"\n",
            "_________________________________________________________________\n",
            " Layer (type)                Output Shape              Param #   \n",
            "=================================================================\n",
            " keras_layer (KerasLayer)    (None, 1280)              3413024   \n",
            "                                                                 \n",
            " dropout (Dropout)           (None, 1280)              0         \n",
            "                                                                 \n",
            " dense (Dense)               (None, 2)                 2562      \n",
            "                                                                 \n",
            "=================================================================\n",
            "Total params: 3,415,586\n",
            "Trainable params: 2,562\n",
            "Non-trainable params: 3,413,024\n",
            "_________________________________________________________________\n"
          ]
        }
      ]
    },
    {
      "cell_type": "code",
      "source": [
        "EPOCHS = 1\n",
        "model.compile(optimizer='adam',\n",
        "                  loss='binary_crossentropy',\n",
        "                  metrics=['accuracy'])\n",
        "hist = model.fit(train_dataset,\n",
        "                 epochs=EPOCHS,\n",
        "                 validation_data=validation_dataset)"
      ],
      "metadata": {
        "colab": {
          "base_uri": "https://localhost:8080/"
        },
        "id": "O98ZaVjYVbZP",
        "outputId": "0530fa05-5199-4008-8c6d-85748be9590b"
      },
      "execution_count": 8,
      "outputs": [
        {
          "output_type": "stream",
          "name": "stdout",
          "text": [
            "63/63 [==============================] - 285s 4s/step - loss: 0.2562 - accuracy: 0.9240 - val_loss: 0.1068 - val_accuracy: 0.9710\n"
          ]
        }
      ]
    },
    {
      "cell_type": "code",
      "source": [
        "evaluation = model.evaluate(test_dataset, return_dict=True)\n",
        "print()\n",
        "\n",
        "for name, value in evaluation.items():\n",
        "  print(f\"{name}: {value:.4f}\")"
      ],
      "metadata": {
        "id": "VLb_AWjJ9SeX"
      },
      "execution_count": null,
      "outputs": []
    },
    {
      "cell_type": "code",
      "source": [
        "path_model = \"/content/gdrive/MyDrive/ML_entrenamiento/modelo\""
      ],
      "metadata": {
        "id": "zlB0ETUvBAwn"
      },
      "execution_count": 9,
      "outputs": []
    },
    {
      "cell_type": "code",
      "source": [
        "model.save(path_model)"
      ],
      "metadata": {
        "id": "MnK2dVy-5QZZ"
      },
      "execution_count": 10,
      "outputs": []
    },
    {
      "cell_type": "code",
      "source": [
        "modelo_guardado = tf.keras.models.load_model(path_model)"
      ],
      "metadata": {
        "id": "Qf9t0420nX4i"
      },
      "execution_count": 11,
      "outputs": []
    },
    {
      "cell_type": "code",
      "source": [
        "img_path = \"/content/gdrive/MyDrive/ML_entrenamiento/cats_vs_dogs_small/test/dog/dog.1500.jpg\" #cambiar dog o cat\n",
        "img = tf.keras.preprocessing.image.load_img(img_path, target_size=(180,180,3))"
      ],
      "metadata": {
        "id": "a2UB5zTnmtJu"
      },
      "execution_count": 14,
      "outputs": []
    },
    {
      "cell_type": "code",
      "source": [
        "x = tf.keras.utils.img_to_array(img)\n",
        "x = np.expand_dims(x, axis=0)\n",
        "classes = modelo_guardado.predict(x)\n",
        "print(\"Vector clases:\",classes[0])\n",
        "print(\"Clase:\",np.argmax(classes))\n",
        "plt.imshow(img,cmap='magma'); plt.title(f\"Imagen\", size=15)\n",
        "plt.show()"
      ],
      "metadata": {
        "colab": {
          "base_uri": "https://localhost:8080/",
          "height": 318
        },
        "id": "CTATf1csnbt7",
        "outputId": "cc12dff0-2b82-4dac-a7a2-ca5eea6db1b2"
      },
      "execution_count": 15,
      "outputs": [
        {
          "output_type": "stream",
          "name": "stdout",
          "text": [
            "Vector clases: [0.3011734  0.69882655]\n",
            "Clase: 1\n"
          ]
        },
        {
          "output_type": "display_data",
          "data": {
            "text/plain": [
              "<Figure size 432x288 with 1 Axes>"
            ],
            "image/png": "[encoded data removed]"
          },
          "metadata": {
            "needs_background": "light"
          }
        }
      ]
    },
    {
      "cell_type": "markdown",
      "source": [
        "## Exportar modelo a TFLITE"
      ],
      "metadata": {
        "id": "laSdLUqgCKQk"
      }
    },
    {
      "cell_type": "code",
      "source": [
        "export_dir = \"/content/gdrive/MyDrive/ML_entrenamiento/modelo\""
      ],
      "metadata": {
        "id": "yZM4zp0sBZ_L"
      },
      "execution_count": 16,
      "outputs": []
    },
    {
      "cell_type": "code",
      "source": [
        "converter = tf.lite.TFLiteConverter.from_saved_model(export_dir)\n",
        "converter.optimizations = [tf.lite.Optimize.DEFAULT]\n",
        "tflite_model = converter.convert()\n",
        "tflite_model_file = pathlib.Path('/content/gdrive/MyDrive/ML_entrenamiento/model.tflite')\n",
        "tflite_model_file.write_bytes(tflite_model)"
      ],
      "metadata": {
        "colab": {
          "base_uri": "https://localhost:8080/"
        },
        "id": "puaksfNlfrn7",
        "outputId": "7c01dc2b-9458-403f-cd87-15f54c0f0f4c"
      },
      "execution_count": 17,
      "outputs": [
        {
          "output_type": "stream",
          "name": "stderr",
          "text": [
            "WARNING:absl:Buffer deduplication procedure will be skipped when flatbuffer library is not properly loaded\n"
          ]
        },
        {
          "output_type": "execute_result",
          "data": {
            "text/plain": [
              "3881504"
            ]
          },
          "metadata": {},
          "execution_count": 17
        }
      ]
    },
    {
      "cell_type": "markdown",
      "source": [
        "Metadata"
      ],
      "metadata": {
        "id": "Xt-6aOSUGcfT"
      }
    },
    {
      "cell_type": "code",
      "source": [
        "!pip install tflite_support_nightly"
      ],
      "metadata": {
        "colab": {
          "base_uri": "https://localhost:8080/",
          "height": 557
        },
        "id": "XexLQxIAHWa2",
        "outputId": "ee04679a-79f1-454b-fb66-c22a2bb8bb5d"
      },
      "execution_count": 18,
      "outputs": [
        {
          "output_type": "stream",
          "name": "stdout",
          "text": [
            "Looking in indexes: https://pypi.org/simple, https://us-python.pkg.dev/colab-wheels/public/simple/\n",
            "Collecting tflite_support_nightly\n",
            "  Downloading tflite_support_nightly-0.4.0.dev20220813-cp37-cp37m-manylinux2014_x86_64.whl (60.2 MB)\n",
            "\u001b[K     |████████████████████████████████| 60.2 MB 1.2 MB/s \n",
            "\u001b[?25hCollecting sounddevice>=0.4.4\n",
            "  Downloading sounddevice-0.4.4-py3-none-any.whl (31 kB)\n",
            "Requirement already satisfied: flatbuffers>=2.0 in /usr/local/lib/python3.7/dist-packages (from tflite_support_nightly) (2.0)\n",
            "Requirement already satisfied: absl-py>=0.7.0 in /usr/local/lib/python3.7/dist-packages (from tflite_support_nightly) (1.2.0)\n",
            "Requirement already satisfied: numpy>=1.20.0 in /usr/local/lib/python3.7/dist-packages (from tflite_support_nightly) (1.21.6)\n",
            "Collecting pybind11>=2.6.0\n",
            "  Downloading pybind11-2.10.0-py3-none-any.whl (213 kB)\n",
            "\u001b[K     |████████████████████████████████| 213 kB 63.6 MB/s \n",
            "\u001b[?25hCollecting protobuf<4,>=3.18.0\n",
            "  Downloading protobuf-3.20.1-cp37-cp37m-manylinux_2_5_x86_64.manylinux1_x86_64.whl (1.0 MB)\n",
            "\u001b[K     |████████████████████████████████| 1.0 MB 66.2 MB/s \n",
            "\u001b[?25hRequirement already satisfied: CFFI>=1.0 in /usr/local/lib/python3.7/dist-packages (from sounddevice>=0.4.4->tflite_support_nightly) (1.15.1)\n",
            "Requirement already satisfied: pycparser in /usr/local/lib/python3.7/dist-packages (from CFFI>=1.0->sounddevice>=0.4.4->tflite_support_nightly) (2.21)\n",
            "Installing collected packages: sounddevice, pybind11, protobuf, tflite-support-nightly\n",
            "  Attempting uninstall: protobuf\n",
            "    Found existing installation: protobuf 3.17.3\n",
            "    Uninstalling protobuf-3.17.3:\n",
            "      Successfully uninstalled protobuf-3.17.3\n",
            "\u001b[31mERROR: pip's dependency resolver does not currently take into account all the packages that are installed. This behaviour is the source of the following dependency conflicts.\n",
            "tensorflow 2.8.2+zzzcolab20220719082949 requires protobuf<3.20,>=3.9.2, but you have protobuf 3.20.1 which is incompatible.\u001b[0m\n",
            "Successfully installed protobuf-3.20.1 pybind11-2.10.0 sounddevice-0.4.4 tflite-support-nightly-0.4.0.dev20220813\n"
          ]
        },
        {
          "output_type": "display_data",
          "data": {
            "application/vnd.colab-display-data+json": {
              "pip_warning": {
                "packages": [
                  "google"
                ]
              }
            }
          },
          "metadata": {}
        }
      ]
    },
    {
      "cell_type": "code",
      "source": [
        "from tflite_support.metadata_writers import image_classifier\n",
        "from tflite_support.metadata_writers import writer_utils\n",
        "\n",
        "ImageClassifierWriter = image_classifier.MetadataWriter\n",
        "\n",
        "_MODEL_PATH = \"/content/gdrive/MyDrive/ML_entrenamiento/model.tflite\"\n",
        "# Task Library expects label files that are in the same format as the one below.\n",
        "_LABEL_FILE = \"/content/gdrive/MyDrive/ML_entrenamiento/labelmap.txt\"\n",
        "_SAVE_TO_PATH = \"/content/gdrive/MyDrive/ML_entrenamiento/model_meta.tflite\"\n",
        "# Normalization parameters is required when reprocessing the image. It is\n",
        "# optional if the image pixel values are in range of [0, 255] and the input\n",
        "# tensor is quantized to uint8. See the introduction for normalization and\n",
        "# quantization parameters below for more details.\n",
        "# https://www.tensorflow.org/lite/models/convert/metadata#normalization_and_quantization_parameters)\n",
        "_INPUT_NORM_MEAN = 127.5\n",
        "_INPUT_NORM_STD = 127.5\n",
        "\n",
        "# Create the metadata writer.\n",
        "writer = ImageClassifierWriter.create_for_inference(\n",
        "    writer_utils.load_file(_MODEL_PATH), [_INPUT_NORM_MEAN], [_INPUT_NORM_STD], [_LABEL_FILE])\n",
        "\n",
        "# Verify the metadata generated by metadata writer.\n",
        "print(writer.get_metadata_json())\n",
        "\n",
        "# Populate the metadata into the model.\n",
        "writer_utils.save_file(writer.populate(), _SAVE_TO_PATH)"
      ],
      "metadata": {
        "colab": {
          "base_uri": "https://localhost:8080/"
        },
        "id": "cCwo9_24Gdj5",
        "outputId": "e325e4b2-969d-4f17-d3bd-e5a3ba1ff930"
      },
      "execution_count": 1,
      "outputs": [
        {
          "output_type": "stream",
          "name": "stdout",
          "text": [
            "{\n",
            "  \"name\": \"ImageClassifier\",\n",
            "  \"description\": \"Identify the most prominent object in the image from a known set of categories.\",\n",
            "  \"subgraph_metadata\": [\n",
            "    {\n",
            "      \"input_tensor_metadata\": [\n",
            "        {\n",
            "          \"name\": \"image\",\n",
            "          \"description\": \"Input image to be classified.\",\n",
            "          \"content\": {\n",
            "            \"content_properties_type\": \"ImageProperties\",\n",
            "            \"content_properties\": {\n",
            "              \"color_space\": \"RGB\"\n",
            "            }\n",
            "          },\n",
            "          \"process_units\": [\n",
            "            {\n",
            "              \"options_type\": \"NormalizationOptions\",\n",
            "              \"options\": {\n",
            "                \"mean\": [\n",
            "                  127.5\n",
            "                ],\n",
            "                \"std\": [\n",
            "                  127.5\n",
            "                ]\n",
            "              }\n",
            "            }\n",
            "          ],\n",
            "          \"stats\": {\n",
            "            \"max\": [\n",
            "              1.0\n",
            "            ],\n",
            "            \"min\": [\n",
            "              -1.0\n",
            "            ]\n",
            "          }\n",
            "        }\n",
            "      ],\n",
            "      \"output_tensor_metadata\": [\n",
            "        {\n",
            "          \"name\": \"probability\",\n",
            "          \"description\": \"Probabilities of the labels respectively.\",\n",
            "          \"content\": {\n",
            "            \"content_properties_type\": \"FeatureProperties\",\n",
            "            \"content_properties\": {\n",
            "            }\n",
            "          },\n",
            "          \"stats\": {\n",
            "            \"max\": [\n",
            "              1.0\n",
            "            ],\n",
            "            \"min\": [\n",
            "              0.0\n",
            "            ]\n",
            "          },\n",
            "          \"associated_files\": [\n",
            "            {\n",
            "              \"name\": \"labelmap.txt\",\n",
            "              \"description\": \"Labels for categories that the model can recognize.\",\n",
            "              \"type\": \"TENSOR_AXIS_LABELS\"\n",
            "            }\n",
            "          ]\n",
            "        }\n",
            "      ]\n",
            "    }\n",
            "  ]\n",
            "}\n",
            "\n"
          ]
        }
      ]
    }
  ]
}